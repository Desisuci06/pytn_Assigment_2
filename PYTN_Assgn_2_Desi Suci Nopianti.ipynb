{
 "cells": [
  {
   "cell_type": "markdown",
   "id": "a6eb6046",
   "metadata": {},
   "source": [
    "<img src = \"https://global-uploads.webflow.com/5f0d53c042a9ed6288de7f8d/5f6337ae2cfaa10946ceeb06_Hacktiv8%20logo%20horizontal%2001%20black-p-500.png\" width = 400>\n"
   ]
  },
  {
   "cell_type": "markdown",
   "id": "a077b108",
   "metadata": {},
   "source": [
    "# Hacktiv8 PTP Introduction to Data Science Projects 1"
   ]
  },
  {
   "cell_type": "markdown",
   "id": "cf1c1875",
   "metadata": {},
   "source": [
    "Nama              : Desi Suci Nopianti <br>\n",
    "Program           : Python for Data Science <br>"
   ]
  },
  {
   "cell_type": "markdown",
   "id": "ba3fa1c7",
   "metadata": {},
   "source": [
    "## Project Over View\n",
    "\n",
    "Dataset ini mencatat setiap penjualan bangunan atau unit bangunan (seperti apartemen) di pasar properti New York City selama 12 bulan. Data tersebut mencakup lokasi, alamat, jenis properti, harga jual, dan tanggal penjualan.\n",
    "\n",
    "Beberapa informasi tambahan yang diberikan dalam teks ini meliputi penjelasan singkat tentang kode digit untuk setiap borough (daerah) di NYC, penjelasan tentang kombinasi Borough, Block, dan Lot yang membentuk kunci unik untuk properti, serta penjelasan tentang jenis bangunan pada berbagai waktu.\n",
    "\n",
    "Teks juga mencatat bahwa dalam dataset ini, terdapat penjualan dengan jumlah dolar yang sangat kecil, seringkali nol, yang sebenarnya merupakan pemindahan hak kepemilikan antara pihak-pihak tertentu, seperti orangtua yang mentransfer kepemilikan rumah kepada anak mereka.\n",
    "\n",
    "Selain itu, dataset ini digunakan untuk tujuan pajak, di mana jika satu entitas memiliki seluruh bangunan, maka penjualan mencakup seluruh nilai bangunan. Namun, jika bangunan dimiliki oleh beberapa pemilik (sebagai kondominium), penjualan hanya merujuk pada satu apartemen atau sekelompok apartemen yang dimiliki oleh individu tertentu."
   ]
  },
  {
   "cell_type": "markdown",
   "id": "7fcba623",
   "metadata": {},
   "source": [
    "## Import Libraries"
   ]
  },
  {
   "cell_type": "code",
   "execution_count": 32,
   "id": "261256fb",
   "metadata": {},
   "outputs": [],
   "source": [
    "import math\n",
    "import statistics\n",
    "import numpy as np\n",
    "import pandas as pd\n",
    "import seaborn as sns\n",
    "import statsmodels.api as sm"
   ]
  },
  {
   "cell_type": "markdown",
   "id": "540d8dd2",
   "metadata": {},
   "source": [
    "## Data Loading"
   ]
  },
  {
   "cell_type": "code",
   "execution_count": 33,
   "id": "8a7e3002",
   "metadata": {},
   "outputs": [
    {
     "data": {
      "text/html": [
       "<div>\n",
       "<style scoped>\n",
       "    .dataframe tbody tr th:only-of-type {\n",
       "        vertical-align: middle;\n",
       "    }\n",
       "\n",
       "    .dataframe tbody tr th {\n",
       "        vertical-align: top;\n",
       "    }\n",
       "\n",
       "    .dataframe thead th {\n",
       "        text-align: right;\n",
       "    }\n",
       "</style>\n",
       "<table border=\"1\" class=\"dataframe\">\n",
       "  <thead>\n",
       "    <tr style=\"text-align: right;\">\n",
       "      <th></th>\n",
       "      <th>Unnamed: 0</th>\n",
       "      <th>BOROUGH</th>\n",
       "      <th>NEIGHBORHOOD</th>\n",
       "      <th>BUILDING CLASS CATEGORY</th>\n",
       "      <th>TAX CLASS AT PRESENT</th>\n",
       "      <th>BLOCK</th>\n",
       "      <th>LOT</th>\n",
       "      <th>EASE-MENT</th>\n",
       "      <th>BUILDING CLASS AT PRESENT</th>\n",
       "      <th>ADDRESS</th>\n",
       "      <th>APARTMENT NUMBER</th>\n",
       "      <th>ZIP CODE</th>\n",
       "      <th>RESIDENTIAL UNITS</th>\n",
       "      <th>COMMERCIAL UNITS</th>\n",
       "      <th>TOTAL UNITS</th>\n",
       "      <th>LAND SQUARE FEET</th>\n",
       "      <th>GROSS SQUARE FEET</th>\n",
       "      <th>YEAR BUILT</th>\n",
       "      <th>TAX CLASS AT TIME OF SALE</th>\n",
       "      <th>BUILDING CLASS AT TIME OF SALE</th>\n",
       "      <th>SALE PRICE</th>\n",
       "      <th>SALE DATE</th>\n",
       "    </tr>\n",
       "  </thead>\n",
       "  <tbody>\n",
       "    <tr>\n",
       "      <th>0</th>\n",
       "      <td>4</td>\n",
       "      <td>1</td>\n",
       "      <td>ALPHABET CITY</td>\n",
       "      <td>07 RENTALS - WALKUP APARTMENTS</td>\n",
       "      <td>2A</td>\n",
       "      <td>392</td>\n",
       "      <td>6</td>\n",
       "      <td>NaN</td>\n",
       "      <td>C2</td>\n",
       "      <td>153 AVENUE B</td>\n",
       "      <td>NaN</td>\n",
       "      <td>10009</td>\n",
       "      <td>5</td>\n",
       "      <td>0</td>\n",
       "      <td>5</td>\n",
       "      <td>1633</td>\n",
       "      <td>6440</td>\n",
       "      <td>1900</td>\n",
       "      <td>2</td>\n",
       "      <td>C2</td>\n",
       "      <td>6625000</td>\n",
       "      <td>2017-07-19 00:00:00</td>\n",
       "    </tr>\n",
       "    <tr>\n",
       "      <th>1</th>\n",
       "      <td>5</td>\n",
       "      <td>1</td>\n",
       "      <td>ALPHABET CITY</td>\n",
       "      <td>07 RENTALS - WALKUP APARTMENTS</td>\n",
       "      <td>2</td>\n",
       "      <td>399</td>\n",
       "      <td>26</td>\n",
       "      <td>NaN</td>\n",
       "      <td>C7</td>\n",
       "      <td>234 EAST 4TH   STREET</td>\n",
       "      <td>NaN</td>\n",
       "      <td>10009</td>\n",
       "      <td>28</td>\n",
       "      <td>3</td>\n",
       "      <td>31</td>\n",
       "      <td>4616</td>\n",
       "      <td>18690</td>\n",
       "      <td>1900</td>\n",
       "      <td>2</td>\n",
       "      <td>C7</td>\n",
       "      <td>-</td>\n",
       "      <td>2016-12-14 00:00:00</td>\n",
       "    </tr>\n",
       "    <tr>\n",
       "      <th>2</th>\n",
       "      <td>6</td>\n",
       "      <td>1</td>\n",
       "      <td>ALPHABET CITY</td>\n",
       "      <td>07 RENTALS - WALKUP APARTMENTS</td>\n",
       "      <td>2</td>\n",
       "      <td>399</td>\n",
       "      <td>39</td>\n",
       "      <td>NaN</td>\n",
       "      <td>C7</td>\n",
       "      <td>197 EAST 3RD   STREET</td>\n",
       "      <td>NaN</td>\n",
       "      <td>10009</td>\n",
       "      <td>16</td>\n",
       "      <td>1</td>\n",
       "      <td>17</td>\n",
       "      <td>2212</td>\n",
       "      <td>7803</td>\n",
       "      <td>1900</td>\n",
       "      <td>2</td>\n",
       "      <td>C7</td>\n",
       "      <td>-</td>\n",
       "      <td>2016-12-09 00:00:00</td>\n",
       "    </tr>\n",
       "    <tr>\n",
       "      <th>3</th>\n",
       "      <td>7</td>\n",
       "      <td>1</td>\n",
       "      <td>ALPHABET CITY</td>\n",
       "      <td>07 RENTALS - WALKUP APARTMENTS</td>\n",
       "      <td>2B</td>\n",
       "      <td>402</td>\n",
       "      <td>21</td>\n",
       "      <td>NaN</td>\n",
       "      <td>C4</td>\n",
       "      <td>154 EAST 7TH STREET</td>\n",
       "      <td>NaN</td>\n",
       "      <td>10009</td>\n",
       "      <td>10</td>\n",
       "      <td>0</td>\n",
       "      <td>10</td>\n",
       "      <td>2272</td>\n",
       "      <td>6794</td>\n",
       "      <td>1913</td>\n",
       "      <td>2</td>\n",
       "      <td>C4</td>\n",
       "      <td>3936272</td>\n",
       "      <td>2016-09-23 00:00:00</td>\n",
       "    </tr>\n",
       "    <tr>\n",
       "      <th>4</th>\n",
       "      <td>8</td>\n",
       "      <td>1</td>\n",
       "      <td>ALPHABET CITY</td>\n",
       "      <td>07 RENTALS - WALKUP APARTMENTS</td>\n",
       "      <td>2A</td>\n",
       "      <td>404</td>\n",
       "      <td>55</td>\n",
       "      <td>NaN</td>\n",
       "      <td>C2</td>\n",
       "      <td>301 EAST 10TH   STREET</td>\n",
       "      <td>NaN</td>\n",
       "      <td>10009</td>\n",
       "      <td>6</td>\n",
       "      <td>0</td>\n",
       "      <td>6</td>\n",
       "      <td>2369</td>\n",
       "      <td>4615</td>\n",
       "      <td>1900</td>\n",
       "      <td>2</td>\n",
       "      <td>C2</td>\n",
       "      <td>8000000</td>\n",
       "      <td>2016-11-17 00:00:00</td>\n",
       "    </tr>\n",
       "  </tbody>\n",
       "</table>\n",
       "</div>"
      ],
      "text/plain": [
       "   Unnamed: 0  BOROUGH   NEIGHBORHOOD  \\\n",
       "0           4        1  ALPHABET CITY   \n",
       "1           5        1  ALPHABET CITY   \n",
       "2           6        1  ALPHABET CITY   \n",
       "3           7        1  ALPHABET CITY   \n",
       "4           8        1  ALPHABET CITY   \n",
       "\n",
       "                       BUILDING CLASS CATEGORY TAX CLASS AT PRESENT  BLOCK  \\\n",
       "0  07 RENTALS - WALKUP APARTMENTS                                2A    392   \n",
       "1  07 RENTALS - WALKUP APARTMENTS                                 2    399   \n",
       "2  07 RENTALS - WALKUP APARTMENTS                                 2    399   \n",
       "3  07 RENTALS - WALKUP APARTMENTS                                2B    402   \n",
       "4  07 RENTALS - WALKUP APARTMENTS                                2A    404   \n",
       "\n",
       "   LOT  EASE-MENT BUILDING CLASS AT PRESENT                 ADDRESS  \\\n",
       "0    6        NaN                        C2            153 AVENUE B   \n",
       "1   26        NaN                        C7   234 EAST 4TH   STREET   \n",
       "2   39        NaN                        C7   197 EAST 3RD   STREET   \n",
       "3   21        NaN                        C4     154 EAST 7TH STREET   \n",
       "4   55        NaN                        C2  301 EAST 10TH   STREET   \n",
       "\n",
       "  APARTMENT NUMBER  ZIP CODE  RESIDENTIAL UNITS  COMMERCIAL UNITS  \\\n",
       "0              NaN     10009                  5                 0   \n",
       "1              NaN     10009                 28                 3   \n",
       "2              NaN     10009                 16                 1   \n",
       "3              NaN     10009                 10                 0   \n",
       "4              NaN     10009                  6                 0   \n",
       "\n",
       "   TOTAL UNITS LAND SQUARE FEET GROSS SQUARE FEET  YEAR BUILT  \\\n",
       "0            5             1633              6440        1900   \n",
       "1           31             4616             18690        1900   \n",
       "2           17             2212              7803        1900   \n",
       "3           10             2272              6794        1913   \n",
       "4            6             2369              4615        1900   \n",
       "\n",
       "   TAX CLASS AT TIME OF SALE BUILDING CLASS AT TIME OF SALE SALE PRICE  \\\n",
       "0                          2                             C2    6625000   \n",
       "1                          2                             C7        -     \n",
       "2                          2                             C7        -     \n",
       "3                          2                             C4    3936272   \n",
       "4                          2                             C2    8000000   \n",
       "\n",
       "             SALE DATE  \n",
       "0  2017-07-19 00:00:00  \n",
       "1  2016-12-14 00:00:00  \n",
       "2  2016-12-09 00:00:00  \n",
       "3  2016-09-23 00:00:00  \n",
       "4  2016-11-17 00:00:00  "
      ]
     },
     "execution_count": 33,
     "metadata": {},
     "output_type": "execute_result"
    }
   ],
   "source": [
    "# Mengantisipasi untuk unstandard missing values\n",
    "missing_values = ['n/a', 'na', \"--\", \"?\", \"NA\", 'n-a', 'NaN', ' ', ' - ']\n",
    "\n",
    "# Membaca dataset\n",
    "df = pd.read_csv('nyc-rolling-sales.csv', na_values=missing_values)\n",
    "\n",
    "# menampilkan tampilan kolom full\n",
    "pd.set_option('display.max_columns', 500)\n",
    "\n",
    "# Menampilkan Datasett\n",
    "df.head()"
   ]
  },
  {
   "cell_type": "markdown",
   "id": "619c65d1",
   "metadata": {},
   "source": [
    "## Exploring Dataset"
   ]
  },
  {
   "cell_type": "code",
   "execution_count": 34,
   "id": "08bb0f98",
   "metadata": {},
   "outputs": [],
   "source": [
    "df['BOROUGH']= df['BOROUGH'].map({1:'Manhattan', 2:'Bronx', 3: 'Brooklyn', 4:'Queens', 5:'Staten Island'}) #menambahkan nama wilayah pada BOROUGH"
   ]
  },
  {
   "cell_type": "code",
   "execution_count": 35,
   "id": "0ba4f839",
   "metadata": {},
   "outputs": [
    {
     "data": {
      "text/plain": [
       "(84548, 22)"
      ]
     },
     "execution_count": 35,
     "metadata": {},
     "output_type": "execute_result"
    }
   ],
   "source": [
    " #mengetahui dimensi dataset\n",
    "df.shape "
   ]
  },
  {
   "cell_type": "code",
   "execution_count": 36,
   "id": "90d3056e",
   "metadata": {},
   "outputs": [],
   "source": [
    "#drop unused columns\n",
    "df.drop(['Unnamed: 0', 'EASE-MENT'], axis=1, inplace=True) "
   ]
  },
  {
   "cell_type": "code",
   "execution_count": 37,
   "id": "e4010079",
   "metadata": {},
   "outputs": [
    {
     "data": {
      "text/html": [
       "<div>\n",
       "<style scoped>\n",
       "    .dataframe tbody tr th:only-of-type {\n",
       "        vertical-align: middle;\n",
       "    }\n",
       "\n",
       "    .dataframe tbody tr th {\n",
       "        vertical-align: top;\n",
       "    }\n",
       "\n",
       "    .dataframe thead th {\n",
       "        text-align: right;\n",
       "    }\n",
       "</style>\n",
       "<table border=\"1\" class=\"dataframe\">\n",
       "  <thead>\n",
       "    <tr style=\"text-align: right;\">\n",
       "      <th></th>\n",
       "      <th>BLOCK</th>\n",
       "      <th>LOT</th>\n",
       "      <th>ZIP CODE</th>\n",
       "      <th>RESIDENTIAL UNITS</th>\n",
       "      <th>COMMERCIAL UNITS</th>\n",
       "      <th>TOTAL UNITS</th>\n",
       "      <th>YEAR BUILT</th>\n",
       "      <th>TAX CLASS AT TIME OF SALE</th>\n",
       "    </tr>\n",
       "  </thead>\n",
       "  <tbody>\n",
       "    <tr>\n",
       "      <th>count</th>\n",
       "      <td>84548.000000</td>\n",
       "      <td>84548.000000</td>\n",
       "      <td>84548.000000</td>\n",
       "      <td>84548.000000</td>\n",
       "      <td>84548.000000</td>\n",
       "      <td>84548.000000</td>\n",
       "      <td>84548.000000</td>\n",
       "      <td>84548.000000</td>\n",
       "    </tr>\n",
       "    <tr>\n",
       "      <th>mean</th>\n",
       "      <td>4237.218976</td>\n",
       "      <td>376.224015</td>\n",
       "      <td>10731.991614</td>\n",
       "      <td>2.025264</td>\n",
       "      <td>0.193559</td>\n",
       "      <td>2.249184</td>\n",
       "      <td>1789.322976</td>\n",
       "      <td>1.657485</td>\n",
       "    </tr>\n",
       "    <tr>\n",
       "      <th>std</th>\n",
       "      <td>3568.263407</td>\n",
       "      <td>658.136814</td>\n",
       "      <td>1290.879147</td>\n",
       "      <td>16.721037</td>\n",
       "      <td>8.713183</td>\n",
       "      <td>18.972584</td>\n",
       "      <td>537.344993</td>\n",
       "      <td>0.819341</td>\n",
       "    </tr>\n",
       "    <tr>\n",
       "      <th>min</th>\n",
       "      <td>1.000000</td>\n",
       "      <td>1.000000</td>\n",
       "      <td>0.000000</td>\n",
       "      <td>0.000000</td>\n",
       "      <td>0.000000</td>\n",
       "      <td>0.000000</td>\n",
       "      <td>0.000000</td>\n",
       "      <td>1.000000</td>\n",
       "    </tr>\n",
       "    <tr>\n",
       "      <th>25%</th>\n",
       "      <td>1322.750000</td>\n",
       "      <td>22.000000</td>\n",
       "      <td>10305.000000</td>\n",
       "      <td>0.000000</td>\n",
       "      <td>0.000000</td>\n",
       "      <td>1.000000</td>\n",
       "      <td>1920.000000</td>\n",
       "      <td>1.000000</td>\n",
       "    </tr>\n",
       "    <tr>\n",
       "      <th>50%</th>\n",
       "      <td>3311.000000</td>\n",
       "      <td>50.000000</td>\n",
       "      <td>11209.000000</td>\n",
       "      <td>1.000000</td>\n",
       "      <td>0.000000</td>\n",
       "      <td>1.000000</td>\n",
       "      <td>1940.000000</td>\n",
       "      <td>2.000000</td>\n",
       "    </tr>\n",
       "    <tr>\n",
       "      <th>75%</th>\n",
       "      <td>6281.000000</td>\n",
       "      <td>1001.000000</td>\n",
       "      <td>11357.000000</td>\n",
       "      <td>2.000000</td>\n",
       "      <td>0.000000</td>\n",
       "      <td>2.000000</td>\n",
       "      <td>1965.000000</td>\n",
       "      <td>2.000000</td>\n",
       "    </tr>\n",
       "    <tr>\n",
       "      <th>max</th>\n",
       "      <td>16322.000000</td>\n",
       "      <td>9106.000000</td>\n",
       "      <td>11694.000000</td>\n",
       "      <td>1844.000000</td>\n",
       "      <td>2261.000000</td>\n",
       "      <td>2261.000000</td>\n",
       "      <td>2017.000000</td>\n",
       "      <td>4.000000</td>\n",
       "    </tr>\n",
       "  </tbody>\n",
       "</table>\n",
       "</div>"
      ],
      "text/plain": [
       "              BLOCK           LOT      ZIP CODE  RESIDENTIAL UNITS  \\\n",
       "count  84548.000000  84548.000000  84548.000000       84548.000000   \n",
       "mean    4237.218976    376.224015  10731.991614           2.025264   \n",
       "std     3568.263407    658.136814   1290.879147          16.721037   \n",
       "min        1.000000      1.000000      0.000000           0.000000   \n",
       "25%     1322.750000     22.000000  10305.000000           0.000000   \n",
       "50%     3311.000000     50.000000  11209.000000           1.000000   \n",
       "75%     6281.000000   1001.000000  11357.000000           2.000000   \n",
       "max    16322.000000   9106.000000  11694.000000        1844.000000   \n",
       "\n",
       "       COMMERCIAL UNITS   TOTAL UNITS    YEAR BUILT  TAX CLASS AT TIME OF SALE  \n",
       "count      84548.000000  84548.000000  84548.000000               84548.000000  \n",
       "mean           0.193559      2.249184   1789.322976                   1.657485  \n",
       "std            8.713183     18.972584    537.344993                   0.819341  \n",
       "min            0.000000      0.000000      0.000000                   1.000000  \n",
       "25%            0.000000      1.000000   1920.000000                   1.000000  \n",
       "50%            0.000000      1.000000   1940.000000                   2.000000  \n",
       "75%            0.000000      2.000000   1965.000000                   2.000000  \n",
       "max         2261.000000   2261.000000   2017.000000                   4.000000  "
      ]
     },
     "execution_count": 37,
     "metadata": {},
     "output_type": "execute_result"
    }
   ],
   "source": [
    "# Melihat statistik deskriptif dari data\n",
    "df.describe()"
   ]
  },
  {
   "cell_type": "code",
   "execution_count": 38,
   "id": "b82ebc9d",
   "metadata": {},
   "outputs": [
    {
     "name": "stdout",
     "output_type": "stream",
     "text": [
      "Jumlah fitur categorical : 12\n",
      "Fitur categorical : ['BOROUGH', 'NEIGHBORHOOD', 'BUILDING CLASS CATEGORY', 'TAX CLASS AT PRESENT', 'BUILDING CLASS AT PRESENT', 'ADDRESS', 'APARTMENT NUMBER', 'LAND SQUARE FEET', 'GROSS SQUARE FEET', 'BUILDING CLASS AT TIME OF SALE', 'SALE PRICE', 'SALE DATE']\n"
     ]
    }
   ],
   "source": [
    "#cek data categorical\n",
    "categorical_features = df.select_dtypes(include=['object','category']).columns.tolist()\n",
    "print(\"Jumlah fitur categorical : {}\".format(len(categorical_features)))\n",
    "print(\"Fitur categorical :\", categorical_features)"
   ]
  },
  {
   "cell_type": "code",
   "execution_count": 39,
   "id": "200a7ea2",
   "metadata": {},
   "outputs": [
    {
     "name": "stdout",
     "output_type": "stream",
     "text": [
      "Jumlah fitur numerical: 8\n",
      "Fitur numerical : ['BLOCK', 'LOT', 'ZIP CODE', 'RESIDENTIAL UNITS', 'COMMERCIAL UNITS', 'TOTAL UNITS', 'YEAR BUILT', 'TAX CLASS AT TIME OF SALE']\n"
     ]
    }
   ],
   "source": [
    "# cek data numerical\n",
    "numerical_features = df.select_dtypes(include=['number']).columns.tolist()\n",
    "print(\"Jumlah fitur numerical: {}\".format(len(numerical_features)))\n",
    "print(\"Fitur numerical :\", numerical_features)"
   ]
  },
  {
   "cell_type": "code",
   "execution_count": null,
   "id": "14ca6225",
   "metadata": {},
   "outputs": [],
   "source": []
  },
  {
   "cell_type": "code",
   "execution_count": 40,
   "id": "b5eda93d",
   "metadata": {},
   "outputs": [],
   "source": [
    "categoric = ['BOROUGH', 'NEIGHBORHOOD', 'BUILDING CLASS CATEGORY', 'TAX CLASS AT PRESENT', 'BUILDING CLASS AT PRESENT', 'ADDRESS', 'APARTMENT NUMBER', 'LAND SQUARE FEET', 'GROSS SQUARE FEET', 'BUILDING CLASS AT TIME OF SALE', 'SALE PRICE', 'SALE DATE' ]\n",
    "for col in categoric:\n",
    "    df[col] = df[col].astype('category')"
   ]
  },
  {
   "cell_type": "code",
   "execution_count": 41,
   "id": "46e5f100",
   "metadata": {},
   "outputs": [],
   "source": [
    "numeric = ['BLOCK', 'LOT', 'ZIP CODE', 'RESIDENTIAL UNITS', 'COMMERCIAL UNITS', 'TOTAL UNITS', 'YEAR BUILT', 'TAX CLASS AT TIME OF SALE']\n",
    "for col in numeric: # coerce for missing values\n",
    "    df[col] = pd.to_numeric(df[col], errors='coerce')"
   ]
  },
  {
   "cell_type": "code",
   "execution_count": 42,
   "id": "9e735a7a",
   "metadata": {},
   "outputs": [],
   "source": [
    "df['SALE DATE'] = pd.to_datetime(df['SALE DATE'], errors='coerce') #sale date dengan format datetime"
   ]
  },
  {
   "cell_type": "code",
   "execution_count": 43,
   "id": "ac0e513a",
   "metadata": {},
   "outputs": [
    {
     "name": "stdout",
     "output_type": "stream",
     "text": [
      "<class 'pandas.core.frame.DataFrame'>\n",
      "RangeIndex: 84548 entries, 0 to 84547\n",
      "Data columns (total 20 columns):\n",
      " #   Column                          Non-Null Count  Dtype   \n",
      "---  ------                          --------------  -----   \n",
      " 0   BOROUGH                         84548 non-null  category\n",
      " 1   NEIGHBORHOOD                    84548 non-null  category\n",
      " 2   BUILDING CLASS CATEGORY         84548 non-null  category\n",
      " 3   TAX CLASS AT PRESENT            83810 non-null  category\n",
      " 4   BLOCK                           84548 non-null  int64   \n",
      " 5   LOT                             84548 non-null  int64   \n",
      " 6   BUILDING CLASS AT PRESENT       83810 non-null  category\n",
      " 7   ADDRESS                         84548 non-null  category\n",
      " 8   APARTMENT NUMBER                19052 non-null  category\n",
      " 9   ZIP CODE                        84548 non-null  int64   \n",
      " 10  RESIDENTIAL UNITS               84548 non-null  int64   \n",
      " 11  COMMERCIAL UNITS                84548 non-null  int64   \n",
      " 12  TOTAL UNITS                     84548 non-null  int64   \n",
      " 13  LAND SQUARE FEET                84548 non-null  category\n",
      " 14  GROSS SQUARE FEET               84548 non-null  category\n",
      " 15  YEAR BUILT                      84548 non-null  int64   \n",
      " 16  TAX CLASS AT TIME OF SALE       84548 non-null  int64   \n",
      " 17  BUILDING CLASS AT TIME OF SALE  84548 non-null  category\n",
      " 18  SALE PRICE                      84548 non-null  category\n",
      " 19  SALE DATE                       84548 non-null  category\n",
      "dtypes: category(12), int64(8)\n",
      "memory usage: 10.4 MB\n"
     ]
    }
   ],
   "source": [
    "df.info() #mengecek info"
   ]
  },
  {
   "cell_type": "markdown",
   "id": "cefa6045",
   "metadata": {},
   "source": [
    "# Data Cleaning"
   ]
  },
  {
   "cell_type": "code",
   "execution_count": 44,
   "id": "827e32a0",
   "metadata": {},
   "outputs": [
    {
     "data": {
      "text/plain": [
       "765"
      ]
     },
     "execution_count": 44,
     "metadata": {},
     "output_type": "execute_result"
    }
   ],
   "source": [
    "df.duplicated().sum() #mengecek apakah ada data yang terduplikat"
   ]
  },
  {
   "cell_type": "code",
   "execution_count": 45,
   "id": "aeab0df6",
   "metadata": {},
   "outputs": [
    {
     "data": {
      "text/plain": [
       "0"
      ]
     },
     "execution_count": 45,
     "metadata": {},
     "output_type": "execute_result"
    }
   ],
   "source": [
    "df.drop_duplicates(inplace=True) #mendrop data yang terduplikat\n",
    "df.duplicated().sum()"
   ]
  },
  {
   "cell_type": "code",
   "execution_count": 46,
   "id": "0e711421",
   "metadata": {},
   "outputs": [
    {
     "data": {
      "text/plain": [
       "BOROUGH                               0\n",
       "NEIGHBORHOOD                          0\n",
       "BUILDING CLASS CATEGORY               0\n",
       "TAX CLASS AT PRESENT                738\n",
       "BLOCK                                 0\n",
       "LOT                                   0\n",
       "BUILDING CLASS AT PRESENT           738\n",
       "ADDRESS                               0\n",
       "APARTMENT NUMBER                  64934\n",
       "ZIP CODE                              0\n",
       "RESIDENTIAL UNITS                     0\n",
       "COMMERCIAL UNITS                      0\n",
       "TOTAL UNITS                           0\n",
       "LAND SQUARE FEET                      0\n",
       "GROSS SQUARE FEET                     0\n",
       "YEAR BUILT                            0\n",
       "TAX CLASS AT TIME OF SALE             0\n",
       "BUILDING CLASS AT TIME OF SALE        0\n",
       "SALE PRICE                            0\n",
       "SALE DATE                             0\n",
       "dtype: int64"
      ]
     },
     "execution_count": 46,
     "metadata": {},
     "output_type": "execute_result"
    }
   ],
   "source": [
    "df.isnull().sum() #memeriksa apakah dataframe ada nilai null"
   ]
  },
  {
   "cell_type": "code",
   "execution_count": 47,
   "id": "780654f7",
   "metadata": {
    "scrolled": true
   },
   "outputs": [
    {
     "data": {
      "text/plain": [
       "BOROUGH                            0.000000\n",
       "NEIGHBORHOOD                       0.000000\n",
       "BUILDING CLASS CATEGORY            0.000000\n",
       "TAX CLASS AT PRESENT               0.880847\n",
       "BLOCK                              0.000000\n",
       "LOT                                0.000000\n",
       "BUILDING CLASS AT PRESENT          0.880847\n",
       "ADDRESS                            0.000000\n",
       "APARTMENT NUMBER                  77.502596\n",
       "ZIP CODE                           0.000000\n",
       "RESIDENTIAL UNITS                  0.000000\n",
       "COMMERCIAL UNITS                   0.000000\n",
       "TOTAL UNITS                        0.000000\n",
       "LAND SQUARE FEET                   0.000000\n",
       "GROSS SQUARE FEET                  0.000000\n",
       "YEAR BUILT                         0.000000\n",
       "TAX CLASS AT TIME OF SALE          0.000000\n",
       "BUILDING CLASS AT TIME OF SALE     0.000000\n",
       "SALE PRICE                         0.000000\n",
       "SALE DATE                          0.000000\n",
       "dtype: float64"
      ]
     },
     "execution_count": 47,
     "metadata": {},
     "output_type": "execute_result"
    }
   ],
   "source": [
    "#memeriksa data null dalam peprsen\n",
    "df.isna().sum() /len(df) *100 "
   ]
  },
  {
   "cell_type": "code",
   "execution_count": 48,
   "id": "c0fc6036",
   "metadata": {},
   "outputs": [],
   "source": [
    "# Konversi kolom ke tipe data numerik jika mereka bukan numerik\n",
    "df['LAND SQUARE FEET'] = pd.to_numeric(df['LAND SQUARE FEET'], errors='coerce')\n",
    "df['GROSS SQUARE FEET'] = pd.to_numeric(df['GROSS SQUARE FEET'], errors='coerce')\n",
    "\n",
    "# Isi nilai yang hilang dengan median\n",
    "df['LAND SQUARE FEET'].fillna(df['LAND SQUARE FEET'].median(), inplace=True)\n",
    "df['GROSS SQUARE FEET'].fillna(df['GROSS SQUARE FEET'].median(), inplace=True)\n"
   ]
  },
  {
   "cell_type": "code",
   "execution_count": 49,
   "id": "7e6b7d4d",
   "metadata": {},
   "outputs": [
    {
     "data": {
      "text/plain": [
       "BOROUGH                           0\n",
       "NEIGHBORHOOD                      0\n",
       "BUILDING CLASS CATEGORY           0\n",
       "TAX CLASS AT PRESENT              0\n",
       "BLOCK                             0\n",
       "LOT                               0\n",
       "BUILDING CLASS AT PRESENT         0\n",
       "ADDRESS                           0\n",
       "APARTMENT NUMBER                  0\n",
       "ZIP CODE                          0\n",
       "RESIDENTIAL UNITS                 0\n",
       "COMMERCIAL UNITS                  0\n",
       "TOTAL UNITS                       0\n",
       "LAND SQUARE FEET                  0\n",
       "GROSS SQUARE FEET                 0\n",
       "YEAR BUILT                        0\n",
       "TAX CLASS AT TIME OF SALE         0\n",
       "BUILDING CLASS AT TIME OF SALE    0\n",
       "SALE PRICE                        0\n",
       "SALE DATE                         0\n",
       "dtype: int64"
      ]
     },
     "execution_count": 49,
     "metadata": {},
     "output_type": "execute_result"
    }
   ],
   "source": [
    "df = df.dropna() #mendrop nilai yang missing/hilang\n",
    "df.isnull().sum()"
   ]
  },
  {
   "cell_type": "markdown",
   "id": "3578dbf1",
   "metadata": {},
   "source": [
    "### Mean, Median, Modus"
   ]
  },
  {
   "cell_type": "code",
   "execution_count": 64,
   "id": "323fd2d0",
   "metadata": {},
   "outputs": [
    {
     "name": "stdout",
     "output_type": "stream",
     "text": [
      "Mean dari data Land Square Feet:  1632.0931083877128\n",
      "Mean dari data Gross Square Feet:  1446.2877606239058\n"
     ]
    }
   ],
   "source": [
    "\n",
    "# Konversi kolom ke tipe data numerik jika mereka bukan numerik\n",
    "df['LAND SQUARE FEET'] = pd.to_numeric(df['LAND SQUARE FEET'], errors='coerce')\n",
    "df['GROSS SQUARE FEET'] = pd.to_numeric(df['GROSS SQUARE FEET'], errors='coerce')\n",
    "\n",
    "# Hitung mean setelah mengonversi ke tipe data numeric\n",
    "mean_landsq = statistics.mean(df['LAND SQUARE FEET'])\n",
    "mean_grosssq = statistics.mean(df['GROSS SQUARE FEET'])\n",
    "\n",
    "print(\"Mean dari data Land Square Feet: \", mean_landsq)\n",
    "print(\"Mean dari data Gross Square Feet: \", mean_grosssq)\n"
   ]
  },
  {
   "cell_type": "code",
   "execution_count": 66,
   "id": "836a4a73",
   "metadata": {},
   "outputs": [
    {
     "name": "stdout",
     "output_type": "stream",
     "text": [
      "Mean dari data Land Square Feet :  2314.0\n",
      "Mean dari data Gross Square Feet :  1680.0\n"
     ]
    }
   ],
   "source": [
    "median_landsq = statistics.median(df['LAND SQUARE FEET'])\n",
    "median_grosssq = statistics.median(df['GROSS SQUARE FEET'])\n",
    "print(\"Mean dari data Land Square Feet : \",median_landsq)\n",
    "print(\"Mean dari data Gross Square Feet : \",median_grosssq)"
   ]
  },
  {
   "cell_type": "code",
   "execution_count": 67,
   "id": "89408e6a",
   "metadata": {},
   "outputs": [
    {
     "name": "stdout",
     "output_type": "stream",
     "text": [
      "Mode Borough                         : Manhattan\n",
      "Mode Neighborhood                    : FLUSHING-NORTH\n",
      "Mode Building Class Category         : 13 CONDOS - ELEVATOR APARTMENTS            \n",
      "Mode Building Class at Present       : R4\n"
     ]
    }
   ],
   "source": [
    "mode_borough            = statistics.mode(df['BOROUGH'])\n",
    "mode_Neighborhood       = statistics.mode(df['NEIGHBORHOOD'])\n",
    "mode_BuildClassCategory = statistics.mode(df['BUILDING CLASS CATEGORY'])\n",
    "mode_BuildClassAP       = statistics.mode(df['BUILDING CLASS AT PRESENT'])\n",
    "print(\"Mode Borough                         :\" , mode_borough)\n",
    "print(\"Mode Neighborhood                    :\" , mode_Neighborhood)\n",
    "print(\"Mode Building Class Category         :\" , mode_BuildClassCategory )\n",
    "print(\"Mode Building Class at Present       :\" , mode_BuildClassAP )"
   ]
  },
  {
   "cell_type": "markdown",
   "id": "213afc50",
   "metadata": {},
   "source": [
    "### Range, Variance, Standard Deviation"
   ]
  },
  {
   "cell_type": "code",
   "execution_count": 59,
   "id": "b3fbdc7e",
   "metadata": {},
   "outputs": [
    {
     "name": "stdout",
     "output_type": "stream",
     "text": [
      "Range dari Sale Price :  nan\n"
     ]
    }
   ],
   "source": [
    "range_saleprice = np.ptp(df['SALE PRICE'])\n",
    "print(\"Range dari Sale Price : \",range_saleprice)"
   ]
  },
  {
   "cell_type": "code",
   "execution_count": 68,
   "id": "c7d2008e",
   "metadata": {},
   "outputs": [
    {
     "name": "stdout",
     "output_type": "stream",
     "text": [
      "Range dari Gross Square Feet :  169588.0\n"
     ]
    }
   ],
   "source": [
    "range_grosssf = np.ptp(df['GROSS SQUARE FEET'])\n",
    "print(\"Range dari Gross Square Feet : \",range_grosssf)"
   ]
  },
  {
   "cell_type": "code",
   "execution_count": 69,
   "id": "bff4a2c1",
   "metadata": {},
   "outputs": [
    {
     "name": "stdout",
     "output_type": "stream",
     "text": [
      "Range dari Land Square Feet :  74000.0\n"
     ]
    }
   ],
   "source": [
    "range_landsf = np.ptp(df['LAND SQUARE FEET'])\n",
    "print(\"Range dari Land Square Feet : \", range_landsf)"
   ]
  },
  {
   "cell_type": "code",
   "execution_count": 73,
   "id": "65ff8e30",
   "metadata": {},
   "outputs": [
    {
     "name": "stdout",
     "output_type": "stream",
     "text": [
      "Varian dari data Land Square Feet :  3109443.133361353\n",
      "Varian dari data Gross Square Feet :  18655334.21472763\n"
     ]
    }
   ],
   "source": [
    "var_landsf = statistics.variance(df['LAND SQUARE FEET'])\n",
    "var_grosssf = statistics.variance(df['GROSS SQUARE FEET'])\n",
    "print(\"Varian dari data Land Square Feet : \",var_landsf)\n",
    "print(\"Varian dari data Gross Square Feet : \",var_grosssf)"
   ]
  },
  {
   "cell_type": "code",
   "execution_count": 72,
   "id": "98962e54",
   "metadata": {},
   "outputs": [
    {
     "name": "stdout",
     "output_type": "stream",
     "text": [
      "Standar Deviasi dari data Land Square Feet :  1763.361316736123\n",
      "Standar Deviasi dari data Gross Square Feet :  4319.18212335711\n"
     ]
    }
   ],
   "source": [
    "std_landsf = statistics.stdev(df['LAND SQUARE FEET'])\n",
    "std_grosssf = statistics.stdev(df['GROSS SQUARE FEET'])\n",
    "print(\"Standar Deviasi dari data Land Square Feet : \",std_landsf)\n",
    "print(\"Standar Deviasi dari data Gross Square Feet : \",std_grosssf)"
   ]
  },
  {
   "cell_type": "markdown",
   "id": "ba00621a",
   "metadata": {},
   "source": [
    "# Probability Distribution"
   ]
  },
  {
   "cell_type": "markdown",
   "id": "9efe95ee",
   "metadata": {},
   "source": [
    "### Normal Distribution"
   ]
  },
  {
   "cell_type": "markdown",
   "id": "041d642d",
   "metadata": {},
   "source": [
    "Membuat distribusi normal pada LAND SQUARE FEET, dan GROSS SQUARE FEET"
   ]
  },
  {
   "cell_type": "code",
   "execution_count": 74,
   "id": "e9a5530c",
   "metadata": {},
   "outputs": [
    {
     "data": {
      "text/plain": [
       "<seaborn.axisgrid.FacetGrid at 0x24a17f2d410>"
      ]
     },
     "execution_count": 74,
     "metadata": {},
     "output_type": "execute_result"
    },
    {
     "data": {
      "image/png": "[encoded data removed]",
      "text/plain": [
       "<Figure size 500x500 with 1 Axes>"
      ]
     },
     "metadata": {},
     "output_type": "display_data"
    }
   ],
   "source": [
    "df_landsf = df[(df['LAND SQUARE FEET'] > 10000) & (df['LAND SQUARE FEET'] < 10000000)]\n",
    "sns.displot(df_landsf['LAND SQUARE FEET'], bins=40, rug=True)"
   ]
  },
  {
   "cell_type": "code",
   "execution_count": 75,
   "id": "dcf4a581",
   "metadata": {},
   "outputs": [
    {
     "name": "stderr",
     "output_type": "stream",
     "text": [
      "C:\\Users\\Administrator\\AppData\\Local\\Temp\\ipykernel_8268\\1436157739.py:1: SettingWithCopyWarning: \n",
      "A value is trying to be set on a copy of a slice from a DataFrame.\n",
      "Try using .loc[row_indexer,col_indexer] = value instead\n",
      "\n",
      "See the caveats in the documentation: https://pandas.pydata.org/pandas-docs/stable/user_guide/indexing.html#returning-a-view-versus-a-copy\n",
      "  df_landsf['LOG_LAND'] = np.log(df_landsf['LAND SQUARE FEET'])\n"
     ]
    },
    {
     "data": {
      "text/plain": [
       "<seaborn.axisgrid.FacetGrid at 0x24a186f6410>"
      ]
     },
     "execution_count": 75,
     "metadata": {},
     "output_type": "execute_result"
    },
    {
     "data": {
      "image/png": "[encoded data removed]",
      "text/plain": [
       "<Figure size 500x500 with 1 Axes>"
      ]
     },
     "metadata": {},
     "output_type": "display_data"
    }
   ],
   "source": [
    "df_landsf['LOG_LAND'] = np.log(df_landsf['LAND SQUARE FEET'])\n",
    "sns.displot(df_landsf['LOG_LAND'], bins=50)"
   ]
  },
  {
   "cell_type": "code",
   "execution_count": 76,
   "id": "1da0e215",
   "metadata": {},
   "outputs": [
    {
     "data": {
      "text/plain": [
       "<seaborn.axisgrid.FacetGrid at 0x24a1875ead0>"
      ]
     },
     "execution_count": 76,
     "metadata": {},
     "output_type": "execute_result"
    },
    {
     "data": {
      "image/png": "[encoded data removed]",
      "text/plain": [
       "<Figure size 500x500 with 1 Axes>"
      ]
     },
     "metadata": {},
     "output_type": "display_data"
    }
   ],
   "source": [
    "df_grosssf = df[(df['GROSS SQUARE FEET'] > 10000) & (df['GROSS SQUARE FEET'] < 10000000)]\n",
    "sns.displot(df_grosssf['GROSS SQUARE FEET'], bins=40, rug=True)"
   ]
  },
  {
   "cell_type": "code",
   "execution_count": 77,
   "id": "827bdb26",
   "metadata": {},
   "outputs": [
    {
     "name": "stderr",
     "output_type": "stream",
     "text": [
      "C:\\Users\\Administrator\\AppData\\Local\\Temp\\ipykernel_8268\\1770270442.py:1: SettingWithCopyWarning: \n",
      "A value is trying to be set on a copy of a slice from a DataFrame.\n",
      "Try using .loc[row_indexer,col_indexer] = value instead\n",
      "\n",
      "See the caveats in the documentation: https://pandas.pydata.org/pandas-docs/stable/user_guide/indexing.html#returning-a-view-versus-a-copy\n",
      "  df_grosssf['LOG_GROSS'] = np.log(df_grosssf['GROSS SQUARE FEET'])\n"
     ]
    },
    {
     "data": {
      "text/plain": [
       "<seaborn.axisgrid.FacetGrid at 0x24a17dddd10>"
      ]
     },
     "execution_count": 77,
     "metadata": {},
     "output_type": "execute_result"
    },
    {
     "data": {
      "image/png": "[encoded data removed]",
      "text/plain": [
       "<Figure size 500x500 with 1 Axes>"
      ]
     },
     "metadata": {},
     "output_type": "display_data"
    }
   ],
   "source": [
    "df_grosssf['LOG_GROSS'] = np.log(df_grosssf['GROSS SQUARE FEET'])\n",
    "sns.displot(df_grosssf['LOG_GROSS'], bins=50)"
   ]
  },
  {
   "cell_type": "code",
   "execution_count": null,
   "id": "f8552f73",
   "metadata": {},
   "outputs": [],
   "source": [
    "df.groupby(\"BOROUGH\")[\"SALE PRICE\"].describe() #mendeskripsikan berdasarkan kolom borough dan sale price"
   ]
  },
  {
   "cell_type": "markdown",
   "id": "03b5b2cb",
   "metadata": {},
   "source": [
    "### Confidence Intervals"
   ]
  },
  {
   "cell_type": "markdown",
   "id": "96ff8f7c",
   "metadata": {},
   "source": [
    "#### CI for the population Proportion"
   ]
  },
  {
   "cell_type": "markdown",
   "id": "652e615c",
   "metadata": {},
   "source": [
    "Berdasarkan hasil data sebelumnya diperoleh rata-rata Sale Price untuk property di New York yaitu 1.280.703 dan wilayah yang paling sering muncul yaitu wilayah Brooklyn.\n",
    "\n",
    "Bagaimana CI untuk proporsi property terjual di wilayah Brooklyn?"
   ]
  },
  {
   "cell_type": "code",
   "execution_count": 78,
   "id": "39d1a748",
   "metadata": {},
   "outputs": [
    {
     "data": {
      "text/plain": [
       "0.025580948668524728"
      ]
     },
     "execution_count": 78,
     "metadata": {},
     "output_type": "execute_result"
    }
   ],
   "source": [
    "mean_brooklyn = 8.41\n",
    "sd = 3.95       \n",
    "n = 23843       \n",
    "z = 1.96\n",
    "se = sd/np.sqrt(n)\n",
    "se"
   ]
  },
  {
   "cell_type": "code",
   "execution_count": 79,
   "id": "ccc7b469",
   "metadata": {},
   "outputs": [
    {
     "data": {
      "text/plain": [
       "(8.359861340609692, 8.460138659390308)"
      ]
     },
     "execution_count": 79,
     "metadata": {},
     "output_type": "execute_result"
    }
   ],
   "source": [
    "lowerlimit = mean_brooklyn-z*se #lower limit of the CI\n",
    "upperlimit = mean_brooklyn+z*se#upper limit of the CI\n",
    "lowerlimit,upperlimit "
   ]
  },
  {
   "cell_type": "markdown",
   "id": "e344aa30",
   "metadata": {},
   "source": [
    "Dari perhitungan diperoleh Confidence interval untuk proporsi property di wilayah Brooklyn adalah di rentang 8.35 sampai 8.46."
   ]
  },
  {
   "cell_type": "markdown",
   "id": "4915fb3a",
   "metadata": {},
   "source": [
    "### Hypothesis Testing"
   ]
  },
  {
   "cell_type": "markdown",
   "id": "20c59012",
   "metadata": {},
   "source": [
    "#### Difference in Population Means"
   ]
  },
  {
   "cell_type": "markdown",
   "id": "71a07bd2",
   "metadata": {},
   "source": [
    "Apakah ada perbedaan residential unit yang terjual pada tahun 2005 - 2009 dan tahun 2010 ke atas?\n",
    "\n",
    "Population:\n",
    "\n",
    "- Total Units in NYC Property Sales data\n",
    "\n",
    "Parameter of Interest:\n",
    "\n",
    "- μ1 − μ2\n",
    "- Year Built\n",
    "\n",
    "Taraf signifikansi :\n",
    "\n",
    "- alpha = 5% = 0.05\n",
    "\n",
    "Hypothesis :\n",
    "\n",
    "- H0 (Null Hypothesis) : μ1 = μ2 (tidak terdapat perbedaan unit terjual antara property yang dibangun tahun 1900 - 2000 dan tahun 2001 ke atas)\n",
    "- H1 (Alternative Hypthosis) : μ1 ≠ μ2 (terdapat perbedaan unit terjual antara property yang dibangun tahun 1900 - 2000 dan tahun 2001 ke atas)"
   ]
  },
  {
   "cell_type": "code",
   "execution_count": 80,
   "id": "a15c26fc",
   "metadata": {},
   "outputs": [
    {
     "data": {
      "text/html": [
       "<div>\n",
       "<style scoped>\n",
       "    .dataframe tbody tr th:only-of-type {\n",
       "        vertical-align: middle;\n",
       "    }\n",
       "\n",
       "    .dataframe tbody tr th {\n",
       "        vertical-align: top;\n",
       "    }\n",
       "\n",
       "    .dataframe thead th {\n",
       "        text-align: right;\n",
       "    }\n",
       "</style>\n",
       "<table border=\"1\" class=\"dataframe\">\n",
       "  <thead>\n",
       "    <tr style=\"text-align: right;\">\n",
       "      <th></th>\n",
       "      <th>RESIDENTIAL UNITS</th>\n",
       "      <th>YEAR BUILT</th>\n",
       "    </tr>\n",
       "  </thead>\n",
       "  <tbody>\n",
       "    <tr>\n",
       "      <th>73</th>\n",
       "      <td>47</td>\n",
       "      <td>2005</td>\n",
       "    </tr>\n",
       "    <tr>\n",
       "      <th>75</th>\n",
       "      <td>132</td>\n",
       "      <td>1989</td>\n",
       "    </tr>\n",
       "    <tr>\n",
       "      <th>76</th>\n",
       "      <td>1</td>\n",
       "      <td>0</td>\n",
       "    </tr>\n",
       "    <tr>\n",
       "      <th>77</th>\n",
       "      <td>1</td>\n",
       "      <td>0</td>\n",
       "    </tr>\n",
       "    <tr>\n",
       "      <th>78</th>\n",
       "      <td>1</td>\n",
       "      <td>0</td>\n",
       "    </tr>\n",
       "  </tbody>\n",
       "</table>\n",
       "</div>"
      ],
      "text/plain": [
       "    RESIDENTIAL UNITS  YEAR BUILT\n",
       "73                 47        2005\n",
       "75                132        1989\n",
       "76                  1           0\n",
       "77                  1           0\n",
       "78                  1           0"
      ]
     },
     "execution_count": 80,
     "metadata": {},
     "output_type": "execute_result"
    }
   ],
   "source": [
    "df_res = df[['RESIDENTIAL UNITS','YEAR BUILT']]\n",
    "df_res.head()"
   ]
  },
  {
   "cell_type": "code",
   "execution_count": 81,
   "id": "cc1a3864",
   "metadata": {},
   "outputs": [
    {
     "name": "stderr",
     "output_type": "stream",
     "text": [
      "C:\\Users\\Administrator\\AppData\\Local\\Temp\\ipykernel_8268\\3152287889.py:1: SettingWithCopyWarning: \n",
      "A value is trying to be set on a copy of a slice from a DataFrame.\n",
      "Try using .loc[row_indexer,col_indexer] = value instead\n",
      "\n",
      "See the caveats in the documentation: https://pandas.pydata.org/pandas-docs/stable/user_guide/indexing.html#returning-a-view-versus-a-copy\n",
      "  df_res[\"YEAR BUILT\"] = df[\"YEAR BUILT\"].astype(\"int\")\n"
     ]
    },
    {
     "data": {
      "text/html": [
       "<div>\n",
       "<style scoped>\n",
       "    .dataframe tbody tr th:only-of-type {\n",
       "        vertical-align: middle;\n",
       "    }\n",
       "\n",
       "    .dataframe tbody tr th {\n",
       "        vertical-align: top;\n",
       "    }\n",
       "\n",
       "    .dataframe thead th {\n",
       "        text-align: right;\n",
       "    }\n",
       "</style>\n",
       "<table border=\"1\" class=\"dataframe\">\n",
       "  <thead>\n",
       "    <tr style=\"text-align: right;\">\n",
       "      <th></th>\n",
       "      <th>RESIDENTIAL UNITS</th>\n",
       "      <th>YEAR BUILT</th>\n",
       "    </tr>\n",
       "  </thead>\n",
       "  <tbody>\n",
       "    <tr>\n",
       "      <th>129</th>\n",
       "      <td>1</td>\n",
       "      <td>2008</td>\n",
       "    </tr>\n",
       "    <tr>\n",
       "      <th>183</th>\n",
       "      <td>1</td>\n",
       "      <td>2006</td>\n",
       "    </tr>\n",
       "    <tr>\n",
       "      <th>184</th>\n",
       "      <td>1</td>\n",
       "      <td>2006</td>\n",
       "    </tr>\n",
       "    <tr>\n",
       "      <th>186</th>\n",
       "      <td>1</td>\n",
       "      <td>2007</td>\n",
       "    </tr>\n",
       "    <tr>\n",
       "      <th>488</th>\n",
       "      <td>1</td>\n",
       "      <td>2007</td>\n",
       "    </tr>\n",
       "  </tbody>\n",
       "</table>\n",
       "</div>"
      ],
      "text/plain": [
       "     RESIDENTIAL UNITS  YEAR BUILT\n",
       "129                  1        2008\n",
       "183                  1        2006\n",
       "184                  1        2006\n",
       "186                  1        2007\n",
       "488                  1        2007"
      ]
     },
     "execution_count": 81,
     "metadata": {},
     "output_type": "execute_result"
    }
   ],
   "source": [
    "df_res[\"YEAR BUILT\"] = df[\"YEAR BUILT\"].astype(\"int\")\n",
    "df_pvalue1 = df_res[\n",
    "    (df_res['YEAR BUILT'] > 2005) &\n",
    "    (df_res['YEAR BUILT'] < 2010)]\n",
    "df_pvalue1.head()"
   ]
  },
  {
   "cell_type": "code",
   "execution_count": 82,
   "id": "d2c6b68e",
   "metadata": {},
   "outputs": [
    {
     "data": {
      "text/html": [
       "<div>\n",
       "<style scoped>\n",
       "    .dataframe tbody tr th:only-of-type {\n",
       "        vertical-align: middle;\n",
       "    }\n",
       "\n",
       "    .dataframe tbody tr th {\n",
       "        vertical-align: top;\n",
       "    }\n",
       "\n",
       "    .dataframe thead th {\n",
       "        text-align: right;\n",
       "    }\n",
       "</style>\n",
       "<table border=\"1\" class=\"dataframe\">\n",
       "  <thead>\n",
       "    <tr style=\"text-align: right;\">\n",
       "      <th></th>\n",
       "      <th>RESIDENTIAL UNITS</th>\n",
       "      <th>YEAR BUILT</th>\n",
       "    </tr>\n",
       "  </thead>\n",
       "  <tbody>\n",
       "    <tr>\n",
       "      <th>88</th>\n",
       "      <td>1</td>\n",
       "      <td>2014</td>\n",
       "    </tr>\n",
       "    <tr>\n",
       "      <th>89</th>\n",
       "      <td>1</td>\n",
       "      <td>2014</td>\n",
       "    </tr>\n",
       "    <tr>\n",
       "      <th>90</th>\n",
       "      <td>1</td>\n",
       "      <td>2014</td>\n",
       "    </tr>\n",
       "    <tr>\n",
       "      <th>91</th>\n",
       "      <td>1</td>\n",
       "      <td>2014</td>\n",
       "    </tr>\n",
       "    <tr>\n",
       "      <th>92</th>\n",
       "      <td>1</td>\n",
       "      <td>2014</td>\n",
       "    </tr>\n",
       "  </tbody>\n",
       "</table>\n",
       "</div>"
      ],
      "text/plain": [
       "    RESIDENTIAL UNITS  YEAR BUILT\n",
       "88                  1        2014\n",
       "89                  1        2014\n",
       "90                  1        2014\n",
       "91                  1        2014\n",
       "92                  1        2014"
      ]
     },
     "execution_count": 82,
     "metadata": {},
     "output_type": "execute_result"
    }
   ],
   "source": [
    "df_pvalue2 = df_res[(df_res['YEAR BUILT'] > 2010)]\n",
    "df_pvalue2.head()"
   ]
  },
  {
   "cell_type": "code",
   "execution_count": 83,
   "id": "631ae3dd",
   "metadata": {},
   "outputs": [],
   "source": [
    "n1 = len(df_pvalue1)\n",
    "mu1 = df_pvalue1[\"RESIDENTIAL UNITS\"].mean()\n",
    "sd1 = df_pvalue1[\"RESIDENTIAL UNITS\"].std()\n",
    "n2 = len(df_pvalue2)\n",
    "mu2 = df_pvalue2[\"RESIDENTIAL UNITS\"].mean()\n",
    "sd2 = df_pvalue2[\"RESIDENTIAL UNITS\"].std()"
   ]
  },
  {
   "cell_type": "code",
   "execution_count": 84,
   "id": "e03a26f2",
   "metadata": {},
   "outputs": [
    {
     "data": {
      "text/plain": [
       "(2708, 0.9531019202363368, 5.422150929595555)"
      ]
     },
     "execution_count": 84,
     "metadata": {},
     "output_type": "execute_result"
    }
   ],
   "source": [
    "(n1, mu1, sd1)"
   ]
  },
  {
   "cell_type": "code",
   "execution_count": 85,
   "id": "4530875a",
   "metadata": {},
   "outputs": [
    {
     "data": {
      "text/plain": [
       "(3456, 1.333912037037037, 11.428259404969786)"
      ]
     },
     "execution_count": 85,
     "metadata": {},
     "output_type": "execute_result"
    }
   ],
   "source": [
    "(n2, mu2, sd2)"
   ]
  },
  {
   "cell_type": "code",
   "execution_count": 86,
   "id": "e27da6a9",
   "metadata": {},
   "outputs": [
    {
     "data": {
      "text/plain": [
       "(-1.5987230332424165, 0.10988215735226758)"
      ]
     },
     "execution_count": 86,
     "metadata": {},
     "output_type": "execute_result"
    }
   ],
   "source": [
    "sm.stats.ztest(df_pvalue1[\"RESIDENTIAL UNITS\"], df_pvalue2[\"RESIDENTIAL UNITS\"], alternative='two-sided')"
   ]
  },
  {
   "cell_type": "markdown",
   "id": "84a18eb1",
   "metadata": {},
   "source": [
    "Syarat penolakan H0 :\n",
    "\n",
    "- H0 ditolak jika nilai p-value < alpha = 0.05\n",
    "\n",
    "Keputusan :\n",
    "\n",
    "- H0 diterima karena nilai p-value = 0.806955951776814 > alpha = 0.05\n",
    "\n",
    "Kesimpulan :\n",
    "\n",
    "- Pada taraf signifikansi 5%, karena nilai p-value = 0.806955951776814 > alpha = 0.05 maka kita dapat menerima H0 sehingga tidak terdapat perbedaan residential unit yang terjual pada tahun 2005 - 2009 dan tahun 2010 keatas (rata-rata residential unit yang terjual pada tahun 2005 - 2009 sama dengan property yang dibangun pada tahun 2010 keatas)"
   ]
  },
  {
   "cell_type": "code",
   "execution_count": null,
   "id": "b76b9313",
   "metadata": {},
   "outputs": [],
   "source": []
  },
  {
   "cell_type": "code",
   "execution_count": null,
   "id": "cf5e8ee4",
   "metadata": {},
   "outputs": [],
   "source": []
  }
 ],
 "metadata": {
  "kernelspec": {
   "display_name": "Python 3 (ipykernel)",
   "language": "python",
   "name": "python3"
  },
  "language_info": {
   "codemirror_mode": {
    "name": "ipython",
    "version": 3
   },
   "file_extension": ".py",
   "mimetype": "text/x-python",
   "name": "python",
   "nbconvert_exporter": "python",
   "pygments_lexer": "ipython3",
   "version": "3.11.4"
  },
  "toc": {
   "base_numbering": 1,
   "nav_menu": {},
   "number_sections": true,
   "sideBar": true,
   "skip_h1_title": false,
   "title_cell": "Table of Contents",
   "title_sidebar": "Contents",
   "toc_cell": false,
   "toc_position": {},
   "toc_section_display": true,
   "toc_window_display": false
  }
 },
 "nbformat": 4,
 "nbformat_minor": 5
}
